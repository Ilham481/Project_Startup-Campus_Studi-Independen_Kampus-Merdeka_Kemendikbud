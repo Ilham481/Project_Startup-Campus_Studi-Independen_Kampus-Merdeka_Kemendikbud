{
  "nbformat": 4,
  "nbformat_minor": 0,
  "metadata": {
    "colab": {
      "provenance": [],
      "toc_visible": true
    },
    "kernelspec": {
      "name": "python3",
      "display_name": "Python 3"
    },
    "language_info": {
      "name": "python"
    }
  },
  "cells": [
    {
      "cell_type": "markdown",
      "source": [
        "HomeWork 3"
      ],
      "metadata": {
        "id": "tIMnBk_o42nu"
      }
    },
    {
      "cell_type": "code",
      "source": [
        "# Explain briefly the challenges that make NLP difficult to reach human level sense\n",
        "# Jelaskan secara singkat tantangan yang membuat NLP sulit untuk dijangkau akal tingkat manusia.\n"
      ],
      "metadata": {
        "id": "uKMmmYsp44lb"
      },
      "execution_count": null,
      "outputs": []
    },
    {
      "cell_type": "markdown",
      "source": [
        "Jawab : Pada dasarnya teknologi NLP memang masih cukup sulit untuk digunakan dibandingkan dengan metode lainnya dari teknologi AI. Penerapan conversational artificial intelligence pun semakin berkembang pesat. Salah satunya adalah penerapan sentiment analysis untuk mengetahui arah pembicaraan. Akan tetapi jika bisa mengembangkan teknologi ini dengan baik, akan memberikan banyak manfaat khususnya dalam dunia bisnis. Dengan menggunakan teknologi Natural Language Processing ini, berbagai pekerjaan manusia menjadi lebih mudah dan cepat untuk dikerjakan oleh komputer. Meskipun demikian, manusia juga harus lebih kreatif dan inovatif agar tidak dikalahkan oleh teknologi komputer seperti ini."
      ],
      "metadata": {
        "id": "96DoUFvO45mW"
      }
    }
  ]
}